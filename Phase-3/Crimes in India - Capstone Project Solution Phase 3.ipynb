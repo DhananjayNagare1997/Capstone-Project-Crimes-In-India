{
 "cells": [
  {
   "cell_type": "markdown",
   "id": "ca4204b6",
   "metadata": {},
   "source": [
    "# Lets Proceed with Phase-3 which is a SQL Queries"
   ]
  },
  {
   "cell_type": "code",
   "execution_count": 29,
   "id": "6bcf6b94",
   "metadata": {},
   "outputs": [],
   "source": [
    "import sqlite3\n",
    "import csv\n",
    "import pandas as pd\n",
    "import os\n"
   ]
  },
  {
   "cell_type": "code",
   "execution_count": 2,
   "id": "e2d820a8",
   "metadata": {},
   "outputs": [],
   "source": [
    "db=sqlite3.connect(\"crime_database\")"
   ]
  },
  {
   "cell_type": "code",
   "execution_count": 3,
   "id": "db544618",
   "metadata": {},
   "outputs": [],
   "source": [
    "cursor=db.cursor()"
   ]
  },
  {
   "cell_type": "code",
   "execution_count": 4,
   "id": "839e3544",
   "metadata": {},
   "outputs": [],
   "source": [
    "cursor.execute(\"DROP TABLE crime_against_women_new1\")\n",
    "db.commit()\n"
   ]
  },
  {
   "cell_type": "code",
   "execution_count": 5,
   "id": "74e540bd",
   "metadata": {},
   "outputs": [],
   "source": [
    "cursor.execute(\"CREATE TABLE crime_against_women_new1(state UT TEXT,DISTRICT TEXT,Year INT,Rape INT,Kidnapping INT,Dowry Deaths INT,Assault INT,Insult  INT,Cruelty by Husband  INT,Importation of Girls INT) \")\n",
    "\n",
    "db.commit()"
   ]
  },
  {
   "cell_type": "markdown",
   "id": "131d9af8",
   "metadata": {},
   "source": [
    "# 3.1 Now Here we Creating a table with the entries from 42_District_wise_crimes_committed_against_women_2001_2012.csv"
   ]
  },
  {
   "cell_type": "raw",
   "id": "2872e1f8",
   "metadata": {},
   "source": [
    "with open('C:\\Users\\Dhananjay\\42_District_wise_crimes_committed_against_women_2001_2012_new.csv','r') as file :\n",
    "    #r here is read as\n",
    "    no_records=0\n",
    "    for row in file:\n",
    "        cursor.execute(\"INSERT INTO crime_against_women_new1 VALUES(?,?,?,?,?,?,?,?,?,?)\",row.split(\",\"))#it will split the data row.split\n",
    "        db.commit()\n",
    "        no_records += 1"
   ]
  },
  {
   "cell_type": "code",
   "execution_count": 7,
   "id": "5990f448",
   "metadata": {},
   "outputs": [
    {
     "name": "stdout",
     "output_type": "stream",
     "text": [
      "C:\\Users\\Dhananjay\n"
     ]
    }
   ],
   "source": [
    "import os\n",
    "print(os.getcwd())"
   ]
  },
  {
   "cell_type": "code",
   "execution_count": 14,
   "id": "9413c466",
   "metadata": {},
   "outputs": [
    {
     "name": "stdout",
     "output_type": "stream",
     "text": [
      "C:\\Users\\Dhananjay\\42_District_wise_crimes_committed_against_women_2001_2012_new.csv\n"
     ]
    }
   ],
   "source": [
    "import os\n",
    "print(os.path.abspath(r'C:\\Users\\Dhananjay\\42_District_wise_crimes_committed_against_women_2001_2012_new.csv'))\n"
   ]
  },
  {
   "cell_type": "code",
   "execution_count": 16,
   "id": "d134584c",
   "metadata": {},
   "outputs": [],
   "source": [
    "import os\n",
    "import pandas as pd\n",
    "\n",
    "\n",
    "file_name = \"42_District_wise_crimes_committed_against_women_2001_2012.csv\"\n",
    "file_path = os.path.join(os.getcwd(), file_name)\n",
    "\n",
    "# Read CSV file using pandas\n",
    "data = pd.read_csv(file_path)\n",
    "\n",
    "# Assuming cursor and db are properly initialized\n",
    "for index, row in data.iterrows():\n",
    "    cursor.execute(\"INSERT INTO crime_against_women_new1 VALUES(?,?,?,?,?,?,?,?,?,?)\", row.tolist())\n",
    "    db.commit()\n",
    "\n",
    "no_records = len(data)\n"
   ]
  },
  {
   "cell_type": "code",
   "execution_count": 17,
   "id": "40bf9ed0",
   "metadata": {},
   "outputs": [
    {
     "data": {
      "text/plain": [
       "9017"
      ]
     },
     "execution_count": 17,
     "metadata": {},
     "output_type": "execute_result"
    }
   ],
   "source": [
    "no_records"
   ]
  },
  {
   "cell_type": "code",
   "execution_count": 18,
   "id": "8924bc3a",
   "metadata": {},
   "outputs": [
    {
     "name": "stdout",
     "output_type": "stream",
     "text": [
      "9017 Records Inserted\n"
     ]
    }
   ],
   "source": [
    "print(no_records,'Records Inserted')"
   ]
  },
  {
   "cell_type": "code",
   "execution_count": null,
   "id": "9910e936",
   "metadata": {},
   "outputs": [],
   "source": []
  },
  {
   "cell_type": "markdown",
   "id": "ab77ea6b",
   "metadata": {},
   "source": [
    "# 3.2 Let's Creating an SQL query to determine which state, district, and year had the most number of rapes and kidnappings from the colum."
   ]
  },
  {
   "cell_type": "code",
   "execution_count": 25,
   "id": "9f112ddb",
   "metadata": {},
   "outputs": [
    {
     "name": "stdout",
     "output_type": "stream",
     "text": [
      "('WEST BENGAL', 'MURSHIDABAD', 2011, 433, 492)\n",
      "('WEST BENGAL', 'MURSHIDABAD', 2012, 257, 464)\n",
      "('WEST BENGAL', 'MURSHIDABAD', 2010, 526, 441)\n",
      "('DELHI', 'NORTH-WEST', 2005, 236, 349)\n",
      "('WEST BENGAL', 'MURSHIDABAD', 2009, 568, 342)\n",
      "('UTTAR PRADESH', 'LUCKNOW', 2008, 334, 331)\n",
      "('DELHI', 'NORTH WEST', 2001, 145, 298)\n",
      "('DELHI', 'NORTH-WEST', 2006, 224, 287)\n",
      "('DELHI', 'NORTH WEST', 2002, 159, 259)\n",
      "('DELHI', 'OUTER', 2007, 369, 237)\n",
      "('ASSAM', 'GUWAHATI CITY', 2004, 197, 228)\n",
      "('DELHI', 'NORTH WEST', 2003, 137, 191)\n"
     ]
    }
   ],
   "source": [
    "result=cursor.execute(\"SELECT  state UT, DISTRICT ,Year ,MAX(Rape), MAX(Kidnapping) FROM crime_against_women_new1 WHERE NOT DISTRICT='TOTAL' AND NOT DISTRICT='DELHI UT TOTAL' GROUP BY Year ORDER BY Kidnapping DESC\")\n",
    "for row in result:\n",
    "    print(row)"
   ]
  },
  {
   "cell_type": "markdown",
   "id": "d78aa4e3",
   "metadata": {},
   "source": [
    "The district with the highest number of rape and kidnapping incidents is Murshidabad District in West Bengal. In 2011, it reported 568 rape cases and 492 kidnapping cases, making it the district with the highest occurrences of both crimes."
   ]
  },
  {
   "cell_type": "markdown",
   "id": "486bed08",
   "metadata": {},
   "source": [
    "# 3.3 Let's Creating an SQL query to determine which state, district, and year had the fewest rapes and kidnappings."
   ]
  },
  {
   "cell_type": "code",
   "execution_count": 26,
   "id": "263982f8",
   "metadata": {},
   "outputs": [
    {
     "name": "stdout",
     "output_type": "stream",
     "text": [
      "('A & N ISLANDS', 'NICOBAR', 2001, 0, 0)\n",
      "('ANDHRA PRADESH', 'GUNTAKAL RLY.', 2001, 0, 0)\n",
      "('ARUNACHAL PRADESH', 'TAWANG', 2001, 0, 0)\n",
      "('ASSAM', 'C.I.D.', 2001, 0, 0)\n",
      "('BIHAR', 'ARWAL', 2001, 0, 0)\n",
      "('CHHATTISGARH', 'BIZAPUR', 2001, 0, 0)\n",
      "('DAMAN & DIU', 'DIU', 2001, 0, 0)\n",
      "('DELHI', 'S.T.F.', 2001, 0, 0)\n",
      "('GUJARAT', 'W.RLY', 2001, 0, 0)\n",
      "('HARYANA', 'GRP', 2002, 0, 0)\n",
      "('HIMACHAL PRADESH', 'G.R.P.', 2001, 0, 0)\n",
      "('JAMMU & KASHMIR', 'CRIME JAMMU', 2001, 0, 0)\n",
      "('JHARKHAND', 'DEOGHAR', 2001, 0, 0)\n",
      "('KARNATAKA', 'CHITRADURGA', 2001, 0, 0)\n",
      "('KERALA', 'CBCID', 2001, 0, 0)\n",
      "('LAKSHADWEEP', 'LAKSHADWEEP', 2001, 0, 0)\n",
      "('MADHYA PRADESH', 'INDORE RLY.', 2001, 0, 0)\n",
      "('MAHARASHTRA', 'MUMBAI RLY.', 2001, 0, 0)\n",
      "('MANIPUR', 'CHURACHANDPUR', 2001, 0, 0)\n",
      "('MEGHALAYA', 'GARO HILLS EAST', 2001, 0, 0)\n",
      "('MIZORAM', 'AIZAWL', 2001, 0, 0)\n",
      "('NAGALAND', 'KIPHIRE', 2001, 0, 0)\n",
      "('ODISHA', 'RAYAGADA', 2001, 0, 0)\n",
      "('PUDUCHERRY', 'KARAIKAL', 2011, 0, 0)\n",
      "('PUNJAB', 'G.R.P', 2001, 0, 0)\n",
      "('RAJASTHAN', 'G.R.P.', 2003, 0, 0)\n",
      "('SIKKIM', 'NORTH', 2001, 0, 0)\n",
      "('TAMIL NADU', 'CHENNAI', 2001, 0, 0)\n",
      "('TRIPURA', 'DHALAI', 2001, 0, 0)\n",
      "('UTTAR PRADESH', 'MAHARAJGANJ', 2002, 0, 0)\n",
      "('UTTARAKHAND', 'NAINITAL', 2001, 0, 0)\n",
      "('WEST BENGAL', 'ASANSOL', 2001, 0, 0)\n",
      "('GOA', 'NORTH GOA', 2001, 3, 1)\n",
      "('D & N HAVELI', 'D and N HAVELI', 2001, 1, 2)\n",
      "('CHANDIGARH', 'CHANDIGARH', 2003, 18, 28)\n"
     ]
    }
   ],
   "source": [
    "result=cursor.execute(\"SELECT  state UT, DISTRICT ,Year ,MIN(Rape), MIN(Kidnapping) FROM crime_against_women_new1 WHERE NOT DISTRICT='TOTAL' AND NOT DISTRICT='DELHI UT TOTAL' GROUP BY UT ORDER BY Kidnapping\")\n",
    "for row in result:\n",
    "    print(row)"
   ]
  },
  {
   "cell_type": "markdown",
   "id": "61eec799",
   "metadata": {},
   "source": [
    "The data reveals the instances of the fewest rape and kidnapping cases recorded in each state and year."
   ]
  },
  {
   "cell_type": "markdown",
   "id": "51484056",
   "metadata": {},
   "source": [
    "# 3.4 Let's Creating a new table with the records from 02_District_wise_crimes_committed_against_ST_2001_2012.csv."
   ]
  },
  {
   "cell_type": "code",
   "execution_count": 27,
   "id": "c8573ae4",
   "metadata": {},
   "outputs": [],
   "source": [
    "cursor.execute(\"CREATE TABLE crime_against_st_new (state UT TEXT,DISTRICT TEXT,Year INT,Murder INT,Rape INT,Kidnapping INT,Dacoity INT,Robbery INT,Arson  INT,Hurt INT,PCR INT,POA INT,Other Crimes INT) \")\n",
    "db.commit()"
   ]
  },
  {
   "cell_type": "code",
   "execution_count": 35,
   "id": "583933bc",
   "metadata": {},
   "outputs": [
    {
     "name": "stdout",
     "output_type": "stream",
     "text": [
      "File Path: C:\\Users\\Dhananjay\\02_District_wise_crimes_committed_against_ST_2001_2012_new.csv\n"
     ]
    }
   ],
   "source": [
    "print(\"File Path:\", file_path)\n"
   ]
  },
  {
   "cell_type": "code",
   "execution_count": null,
   "id": "aa29f8f5",
   "metadata": {},
   "outputs": [],
   "source": [
    "with open('02_District_wise_crimes_committed_against_ST_2001_2012_new.csv','r') as file :\n",
    "    # r here is read as\n",
    "    no_records=0\n",
    "    for row in file:\n",
    "        cursor.execute(\"INSERT INTO crime_against_st_new VALUES(?,?,?,?,?,?,?,?,?,?,?,?,?)\",row.split(\",\"))#That will divide the row of data\n",
    "        no_records += 1"
   ]
  },
  {
   "cell_type": "code",
   "execution_count": null,
   "id": "82287291",
   "metadata": {},
   "outputs": [],
   "source": []
  },
  {
   "cell_type": "code",
   "execution_count": 47,
   "id": "eb093541",
   "metadata": {},
   "outputs": [
    {
     "name": "stdout",
     "output_type": "stream",
     "text": [
      "Inserted 9018 records into the database.\n",
      "Connected to the SQLite database: crime_database\n"
     ]
    }
   ],
   "source": [
    "import sqlite3\n",
    "import csv\n",
    "import os\n",
    "\n",
    "# Connect to SQLite database\n",
    "db_file = 'crime_database'  # SQLite database file name\n",
    "db = sqlite3.connect(db_file)\n",
    "cursor = db.cursor()\n",
    "\n",
    "# Open the CSV file\n",
    "csv_file = \"02_District_wise_crimes_committed_against_ST_2001_2012.csv\"\n",
    "\n",
    "try:\n",
    "    # Read data from CSV and insert into the table\n",
    "    with open(csv_file, 'r', encoding='utf-8') as file:\n",
    "        csv_reader = csv.reader(file)\n",
    "        next(csv_reader)  # Skip the header row if it exists\n",
    "\n",
    "        # Insert records into the table\n",
    "        cursor.executemany('''INSERT INTO crime_against_st_new VALUES (?,?,?,?,?,?,?,?,?,?,?,?,?)''', csv_reader)\n",
    "        db.commit()\n",
    "\n",
    "        # Get the number of inserted records\n",
    "        no_records = cursor.rowcount\n",
    "        print(f\"Inserted {no_records} records into the database.\")\n",
    "\n",
    "except FileNotFoundError:\n",
    "    print(f\"File '{csv_file}' not found. Please check the file path and try again.\")\n",
    "\n",
    "except Exception as e:\n",
    "    print(f\"An error occurred: {e}\")\n",
    "\n",
    "# Close the database connection\n",
    "db.close()\n",
    "\n",
    "# Add a comment to display the name of the connected SQLite database\n",
    "print(f\"Connected to the SQLite database: {db_file}\")\n"
   ]
  },
  {
   "cell_type": "code",
   "execution_count": 48,
   "id": "d18b4cea",
   "metadata": {},
   "outputs": [
    {
     "name": "stdout",
     "output_type": "stream",
     "text": [
      "9018 Records Inserted\n"
     ]
    }
   ],
   "source": [
    "print(no_records,'Records Inserted')"
   ]
  },
  {
   "cell_type": "markdown",
   "id": "25b11cfa",
   "metadata": {},
   "source": [
    "# 3.5 Let's Creating an SQL query to see which district has the most robberies or dacoities."
   ]
  },
  {
   "cell_type": "code",
   "execution_count": 51,
   "id": "59781c71",
   "metadata": {},
   "outputs": [
    {
     "name": "stdout",
     "output_type": "stream",
     "text": [
      "('GUJARAT', 'DAHOD', 2001, 29, 32)\n",
      "('NAGALAND', 'KOHIMA', 2001, 6, 18)\n",
      "('ODISHA', 'BOLANGIR', 2008, 1, 7)\n",
      "('ASSAM', 'SONITPUR', 2005, 5, 5)\n",
      "('JHARKHAND', 'GUMLA', 2012, 3, 4)\n",
      "('CHHATTISGARH', 'RAIPUR', 2001, 9, 4)\n",
      "('MIZORAM', 'KOLASIB', 2002, 2, 3)\n",
      "('MADHYA PRADESH', 'REWA', 2004, 1, 2)\n",
      "('KARNATAKA', 'RAICHUR', 2004, 1, 2)\n",
      "('BIHAR', 'PATNA', 2005, 0, 2)\n",
      "('ARUNACHAL PRADESH', 'PAPUM PARE', 2007, 1, 2)\n",
      "('TRIPURA', 'SOUTH', 2010, 0, 1)\n",
      "('SIKKIM', 'EAST', 2005, 1, 1)\n",
      "('RAJASTHAN', 'PALI', 2002, 0, 1)\n",
      "('MAHARASHTRA', 'THANE RURAL', 2002, 2, 1)\n",
      "('KERALA', 'WAYANADU', 2005, 0, 1)\n",
      "('ANDHRA PRADESH', 'KARIMNAGAR', 2003, 0, 1)\n",
      "('WEST BENGAL', '24 PARGANAS NORTH', 2001, 0, 0)\n",
      "('UTTARAKHAND', 'ALMORA', 2001, 0, 0)\n",
      "('UTTAR PRADESH', 'AGRA', 2001, 0, 0)\n",
      "('TAMIL NADU', 'ARIYALUR', 2001, 0, 0)\n",
      "('PUNJAB', 'AMRITSAR', 2001, 0, 0)\n",
      "('PUDUCHERRY', 'PONDICHERRY', 2001, 0, 0)\n",
      "('MEGHALAYA', 'GARO HILLS EAST', 2001, 0, 0)\n",
      "('MANIPUR', 'BISHNUPUR', 2001, 0, 0)\n",
      "('LAKSHADWEEP', 'LAKSHADWEEP', 2001, 0, 0)\n",
      "('JAMMU & KASHMIR', 'ANANTNAG', 2001, 0, 0)\n",
      "('HIMACHAL PRADESH', 'BILASPUR', 2001, 1, 0)\n",
      "('HARYANA', 'AMBALA', 2001, 0, 0)\n",
      "('GOA', 'NORTH GOA', 2001, 0, 0)\n",
      "('DELHI', 'CENTRAL', 2001, 0, 0)\n",
      "('DAMAN & DIU', 'DAMAN', 2001, 0, 0)\n",
      "('D & N HAVELI', 'D and N HAVELI', 2001, 0, 0)\n",
      "('CHANDIGARH', 'CHANDIGARH', 2001, 0, 0)\n",
      "('A & N ISLANDS', 'ANDAMAN', 2001, 0, 0)\n"
     ]
    }
   ],
   "source": [
    "#this block of code was repeted because we closed the database in previous query\n",
    "db = sqlite3.connect(db_file)\n",
    "cursor = db.cursor()\n",
    "\n",
    "result=cursor.execute(\"SELECT State UT,DISTRICT ,Year, MAX(Dacoity), MAX(Robbery) FROM crime_against_st_new WHERE NOT DISTRICT ='TOTAL' AND NOT DISTRICT='DELHI UT TOTAL' GROUP BY UT ORDER BY Robbery  DESC \")\n",
    "for row in result:\n",
    "    print(row)"
   ]
  },
  {
   "cell_type": "markdown",
   "id": "9944d4ed",
   "metadata": {},
   "source": [
    "In 2001, the maximum number of Daocity and Robberies occurred in Gujarat's Dahod District."
   ]
  },
  {
   "cell_type": "markdown",
   "id": "75a9fdb8",
   "metadata": {},
   "source": [
    "# 3.6 Let's Creating an SQL query to see which districts (all) have the fewest murders."
   ]
  },
  {
   "cell_type": "code",
   "execution_count": 52,
   "id": "a6f6886e",
   "metadata": {},
   "outputs": [
    {
     "name": "stdout",
     "output_type": "stream",
     "text": [
      "('A & N ISLANDS', 'ANDAMAN', 0)\n",
      "('ANDHRA PRADESH', 'ADILABAD', 0)\n",
      "('ARUNACHAL PRADESH', 'CHANGLANG', 0)\n",
      "('ASSAM', 'BARPETA', 0)\n",
      "('BIHAR', 'ARWAL', 0)\n",
      "('CHANDIGARH', 'CHANDIGARH', 0)\n",
      "('CHHATTISGARH', 'BALRAMPUR', 0)\n",
      "('D & N HAVELI', 'D and N HAVELI', 0)\n",
      "('DAMAN & DIU', 'DAMAN', 0)\n",
      "('DELHI', 'CENTRAL', 0)\n",
      "('GOA', 'NORTH GOA', 0)\n",
      "('GUJARAT', 'AHMEDABAD COMMR.', 0)\n",
      "('HARYANA', 'AMBALA', 0)\n",
      "('HIMACHAL PRADESH', 'BILASPUR', 0)\n",
      "('JAMMU & KASHMIR', 'ANANTNAG', 0)\n",
      "('JHARKHAND', 'BOKARO', 0)\n",
      "('KARNATAKA', 'BAGALKOT', 0)\n",
      "('KERALA', 'ALAPUZHA', 0)\n",
      "('LAKSHADWEEP', 'LAKSHADWEEP', 0)\n",
      "('MADHYA PRADESH', 'BETUL', 0)\n",
      "('MAHARASHTRA', 'AKOLA', 0)\n",
      "('MANIPUR', 'BISHNUPUR', 0)\n",
      "('MEGHALAYA', 'GARO HILLS EAST', 0)\n",
      "('MIZORAM', 'AIZAWL', 0)\n",
      "('NAGALAND', 'DIMAPUR', 0)\n",
      "('ODISHA', 'ANGUL', 0)\n",
      "('PUDUCHERRY', 'PONDICHERRY', 0)\n",
      "('PUNJAB', 'AMRITSAR', 0)\n",
      "('RAJASTHAN', 'AJMER', 0)\n",
      "('SIKKIM', 'NORTH', 0)\n",
      "('TAMIL NADU', 'ARIYALUR', 0)\n",
      "('TRIPURA', 'DHALAI', 0)\n",
      "('UTTAR PRADESH', 'AGRA', 0)\n",
      "('UTTARAKHAND', 'ALMORA', 0)\n",
      "('WEST BENGAL', '24 PARGANAS NORTH', 0)\n"
     ]
    }
   ],
   "source": [
    "result=cursor.execute(\"SELECT State UT,DISTRICT, Murder FROM crime_against_st_new WHERE Murder=(SELECT MIN(Murder) FROM crime_against_st_new) GROUP BY state \")\n",
    "for row in result:\n",
    "    print(row)"
   ]
  },
  {
   "cell_type": "markdown",
   "id": "f059293b",
   "metadata": {},
   "source": [
    "The query's above result displays the lowest number of murders that occurred in each district."
   ]
  },
  {
   "cell_type": "markdown",
   "id": "2f89a97a",
   "metadata": {},
   "source": [
    "# 3.7 Let's find the number of murders year-by-year and in ascending order by district, creating an SQL query."
   ]
  },
  {
   "cell_type": "code",
   "execution_count": 53,
   "id": "b6278218",
   "metadata": {},
   "outputs": [
    {
     "name": "stdout",
     "output_type": "stream",
     "text": [
      "('A & N ISLANDS', 'ANDAMAN', 2001, 0)\n",
      "('ANDHRA PRADESH', 'ADILABAD', 2001, 0)\n",
      "('ARUNACHAL PRADESH', 'CHANGLANG', 2001, 0)\n",
      "('ASSAM', 'BARPETA', 2001, 0)\n",
      "('CHANDIGARH', 'CHANDIGARH', 2001, 0)\n",
      "('CHHATTISGARH', 'BALRAMPUR', 2001, 0)\n",
      "('D & N HAVELI', 'D and N HAVELI', 2001, 0)\n",
      "('DAMAN & DIU', 'DAMAN', 2001, 0)\n",
      "('DELHI', 'CENTRAL', 2001, 0)\n",
      "('GOA', 'NORTH GOA', 2001, 0)\n",
      "('GUJARAT', 'AHMEDABAD COMMR.', 2001, 0)\n",
      "('HARYANA', 'AMBALA', 2001, 0)\n",
      "('HIMACHAL PRADESH', 'BILASPUR', 2001, 0)\n",
      "('JAMMU & KASHMIR', 'ANANTNAG', 2001, 0)\n",
      "('JHARKHAND', 'BOKARO', 2001, 0)\n",
      "('KARNATAKA', 'BAGALKOT', 2001, 0)\n",
      "('KERALA', 'ALAPUZHA', 2001, 0)\n",
      "('LAKSHADWEEP', 'LAKSHADWEEP', 2001, 0)\n",
      "('MANIPUR', 'BISHNUPUR', 2001, 0)\n",
      "('MEGHALAYA', 'GARO HILLS EAST', 2001, 0)\n",
      "('MIZORAM', 'AIZAWL', 2001, 0)\n",
      "('NAGALAND', 'DIMAPUR', 2001, 0)\n",
      "('ODISHA', 'ANGUL', 2001, 0)\n",
      "('PUDUCHERRY', 'PONDICHERRY', 2001, 0)\n",
      "('PUNJAB', 'AMRITSAR', 2001, 0)\n",
      "('RAJASTHAN', 'AJMER', 2001, 0)\n",
      "('TAMIL NADU', 'ARIYALUR', 2001, 0)\n",
      "('TRIPURA', 'DHALAI', 2001, 0)\n",
      "('UTTAR PRADESH', 'AGRA', 2001, 0)\n",
      "('UTTARAKHAND', 'ALMORA', 2001, 0)\n",
      "('WEST BENGAL', '24 PARGANAS NORTH', 2001, 0)\n",
      "('BIHAR', 'ARARIA', 2001, 1)\n",
      "('MADHYA PRADESH', 'BALAGHAT', 2001, 1)\n",
      "('MAHARASHTRA', 'AHMEDNAGAR', 2001, 1)\n",
      "('SIKKIM', 'EAST', 2001, 4)\n"
     ]
    }
   ],
   "source": [
    "result=cursor.execute(\"SELECT  state, DISTRICT, Year,Murder FROM crime_against_st_new GROUP BY state ORDER BY Murder  \")\n",
    "for row in result:\n",
    "    print(row)"
   ]
  },
  {
   "cell_type": "markdown",
   "id": "66709403",
   "metadata": {},
   "source": [
    "District, year, and murders in ascending ranks."
   ]
  },
  {
   "cell_type": "markdown",
   "id": "b80af742",
   "metadata": {},
   "source": [
    "# 3.8.1 Creating a new table and adding records from 01_District_wise_crimes_committed_IPC_2001_2012.csv, including only the columns for YEAR, MURDER, ATTEMPT TO MURDER, and RAPE."
   ]
  },
  {
   "cell_type": "code",
   "execution_count": 54,
   "id": "bfe61a2d",
   "metadata": {},
   "outputs": [],
   "source": [
    "import pandas as pd"
   ]
  },
  {
   "cell_type": "code",
   "execution_count": 55,
   "id": "93469c9f",
   "metadata": {},
   "outputs": [
    {
     "data": {
      "text/plain": [
       "<sqlite3.Cursor at 0x1895d9c6f40>"
      ]
     },
     "execution_count": 55,
     "metadata": {},
     "output_type": "execute_result"
    }
   ],
   "source": [
    "cursor.execute (\"CREATE TABLE crime_ipc_new(STATE UT TEXT,DISTRICT TEXT,YEAR INT, MURDER INT,ATTEMPT_to_MURDER INT,RAPE INT) \")"
   ]
  },
  {
   "cell_type": "code",
   "execution_count": 56,
   "id": "dce019dd",
   "metadata": {},
   "outputs": [],
   "source": [
    "db.commit()"
   ]
  },
  {
   "cell_type": "code",
   "execution_count": 58,
   "id": "0e50c272",
   "metadata": {},
   "outputs": [
    {
     "ename": "ProgrammingError",
     "evalue": "Incorrect number of bindings supplied. The current statement uses 6, and there are 33 supplied.",
     "output_type": "error",
     "traceback": [
      "\u001b[1;31m---------------------------------------------------------------------------\u001b[0m",
      "\u001b[1;31mProgrammingError\u001b[0m                          Traceback (most recent call last)",
      "Cell \u001b[1;32mIn[58], line 5\u001b[0m\n\u001b[0;32m      3\u001b[0m no_records\u001b[38;5;241m=\u001b[39m\u001b[38;5;241m0\u001b[39m\n\u001b[0;32m      4\u001b[0m \u001b[38;5;28;01mfor\u001b[39;00m row \u001b[38;5;129;01min\u001b[39;00m file:\n\u001b[1;32m----> 5\u001b[0m     cursor\u001b[38;5;241m.\u001b[39mexecute(\u001b[38;5;124m\"\u001b[39m\u001b[38;5;124mINSERT INTO crime_ipc_new VALUES(?,?,?,?,?,?)\u001b[39m\u001b[38;5;124m\"\u001b[39m,row\u001b[38;5;241m.\u001b[39msplit(\u001b[38;5;124m\"\u001b[39m\u001b[38;5;124m,\u001b[39m\u001b[38;5;124m\"\u001b[39m))\u001b[38;5;66;03m#That will divide the row of data.\u001b[39;00m\n\u001b[0;32m      6\u001b[0m     db\u001b[38;5;241m.\u001b[39mcommit()\n\u001b[0;32m      7\u001b[0m     no_records \u001b[38;5;241m+\u001b[39m\u001b[38;5;241m=\u001b[39m \u001b[38;5;241m1\u001b[39m\n",
      "\u001b[1;31mProgrammingError\u001b[0m: Incorrect number of bindings supplied. The current statement uses 6, and there are 33 supplied."
     ]
    }
   ],
   "source": [
    "with open('01_District_wise_crimes_committed_IPC_2001_2012.csv','r') as file :\n",
    "    # r here is read as\n",
    "    no_records=0\n",
    "    for row in file:\n",
    "        cursor.execute(\"INSERT INTO crime_ipc_new VALUES(?,?,?,?,?,?)\",row.split(\",\"))#That will divide the row of data.\n",
    "        db.commit()\n",
    "        no_records += 1"
   ]
  },
  {
   "cell_type": "code",
   "execution_count": 59,
   "id": "c8155ca3",
   "metadata": {},
   "outputs": [],
   "source": [
    "with open('01_District_wise_crimes_committed_IPC_2001_2012.csv', 'r') as file:\n",
    "    # r here is read as\n",
    "    no_records = 0\n",
    "    for row in file:\n",
    "        values = row.strip().split(\",\")[:6]  # Assuming you want to insert the first six values\n",
    "        cursor.execute(\"INSERT INTO crime_ipc_new VALUES(?,?,?,?,?,?)\", values)\n",
    "        db.commit()\n",
    "        no_records += 1\n"
   ]
  },
  {
   "cell_type": "code",
   "execution_count": 60,
   "id": "6ba4a890",
   "metadata": {},
   "outputs": [
    {
     "data": {
      "text/plain": [
       "9018"
      ]
     },
     "execution_count": 60,
     "metadata": {},
     "output_type": "execute_result"
    }
   ],
   "source": [
    "no_records"
   ]
  },
  {
   "cell_type": "code",
   "execution_count": 61,
   "id": "84fd07e9",
   "metadata": {},
   "outputs": [
    {
     "name": "stdout",
     "output_type": "stream",
     "text": [
      "9018 Records Inserted\n"
     ]
    }
   ],
   "source": [
    "print(no_records,'Records Inserted')"
   ]
  },
  {
   "cell_type": "markdown",
   "id": "438a0801",
   "metadata": {},
   "source": [
    "# 3.8.2  To determine which district in each state or territory has the most murders annually, creating an SQL query. The STATE/UT, YEAR, DISTRICT, and MURDERS to be displayed in our output."
   ]
  },
  {
   "cell_type": "code",
   "execution_count": 62,
   "id": "bf1296c4",
   "metadata": {},
   "outputs": [
    {
     "name": "stdout",
     "output_type": "stream",
     "text": [
      "('STATE/UT', 'YEAR', 'DISTRICT', 'MURDER')\n",
      "('BIHAR', 2004, 'PATNA', 542)\n",
      "('UTTAR PRADESH', 2001, 'MUZAFFARNAGAR', 324)\n",
      "('MAHARASHTRA', 2001, 'MUMBAI', 295)\n",
      "('JHARKHAND', 2002, 'RANCHI', 270)\n",
      "('WEST BENGAL', 2010, 'PASCHIM MIDNAPUR', 268)\n",
      "('KARNATAKA', 2010, 'BANGALORE COMMR.', 266)\n",
      "('GUJARAT', 2002, 'AHMEDABAD COMMR.', 222)\n",
      "('ANDHRA PRADESH', 2001, 'RANGA REDDY', 214)\n",
      "('TAMIL NADU', 2012, 'CHENNAI', 180)\n",
      "('JAMMU & KASHMIR', 2001, 'BARAMULLA', 144)\n",
      "('ASSAM', 2007, 'TINSUKIA', 143)\n",
      "('MADHYA PRADESH', 2004, 'JHABUA', 139)\n",
      "('CHHATTISGARH', 2006, 'BIZAPUR', 139)\n",
      "('TRIPURA', 2003, 'WEST', 136)\n",
      "('DELHI UT', 2002, 'NORTH WEST', 135)\n",
      "('ODISHA', 2009, 'KEONJHAR', 109)\n",
      "('RAJASTHAN', 2011, 'ALWAR', 104)\n",
      "('UTTARAKHAND', 2001, 'HARIDWAR', 94)\n",
      "('HARYANA', 2006, 'GURGAON', 93)\n",
      "('PUNJAB', 2010, 'CP LUDHIANA', 90)\n",
      "('NAGALAND', 2008, 'DIMAPUR', 64)\n",
      "('MANIPUR', 2007, 'IMPHAL WEST', 61)\n",
      "('KERALA', 2002, 'TRIVANDRUM', 58)\n",
      "('MEGHALAYA', 2003, 'JAINTIA HILLS', 52)\n",
      "('HIMACHAL PRADESH', 2003, 'KANGRA', 38)\n",
      "('GOA', 2009, 'NORTH GOA', 33)\n",
      "('PUDUCHERRY', 2011, 'PUDUCHERRY', 32)\n",
      "('CHANDIGARH', 2002, 'CHANDIGARH', 31)\n",
      "('MIZORAM', 2010, 'AIZAWL', 23)\n",
      "('ARUNACHAL PRADESH', 2007, 'LOHIT', 17)\n",
      "('A & N ISLANDS', 2003, 'ANDAMAN', 16)\n",
      "('D & N HAVELI', 2011, 'D and N HAVELI', 14)\n",
      "('SIKKIM', 2001, 'EAST', 13)\n",
      "('DAMAN & DIU', 2007, 'DAMAN', 12)\n",
      "('LAKSHADWEEP', 2001, 'LAKSHADWEEP', 1)\n"
     ]
    }
   ],
   "source": [
    "result=cursor.execute(\"SELECT  state UT, Year,DISTRICT ,MAX(MURDER) FROM crime_ipc_new WHERE NOT DISTRICT='TOTAL' AND NOT DISTRICT='DELHI UT TOTAL' GROUP BY UT ORDER BY MURDER DESC\")\n",
    "for row in result:\n",
    "    print(row)"
   ]
  },
  {
   "cell_type": "code",
   "execution_count": 64,
   "id": "77a1cfb1",
   "metadata": {},
   "outputs": [],
   "source": [
    "dfsql=pd.read_sql(\"SELECT  state UT, Year,DISTRICT ,MAX(MURDER) AS Murder FROM crime_ipc_new WHERE NOT DISTRICT='TOTAL' AND NOT DISTRICT='DELHI UT TOTAL' GROUP BY UT ORDER BY MURDER DESC \",db)"
   ]
  },
  {
   "cell_type": "code",
   "execution_count": 65,
   "id": "3173f4fe",
   "metadata": {},
   "outputs": [
    {
     "data": {
      "text/html": [
       "<div>\n",
       "<style scoped>\n",
       "    .dataframe tbody tr th:only-of-type {\n",
       "        vertical-align: middle;\n",
       "    }\n",
       "\n",
       "    .dataframe tbody tr th {\n",
       "        vertical-align: top;\n",
       "    }\n",
       "\n",
       "    .dataframe thead th {\n",
       "        text-align: right;\n",
       "    }\n",
       "</style>\n",
       "<table border=\"1\" class=\"dataframe\">\n",
       "  <thead>\n",
       "    <tr style=\"text-align: right;\">\n",
       "      <th></th>\n",
       "      <th>UT</th>\n",
       "      <th>YEAR</th>\n",
       "      <th>DISTRICT</th>\n",
       "      <th>Murder</th>\n",
       "    </tr>\n",
       "  </thead>\n",
       "  <tbody>\n",
       "    <tr>\n",
       "      <th>0</th>\n",
       "      <td>STATE/UT</td>\n",
       "      <td>YEAR</td>\n",
       "      <td>DISTRICT</td>\n",
       "      <td>MURDER</td>\n",
       "    </tr>\n",
       "    <tr>\n",
       "      <th>1</th>\n",
       "      <td>BIHAR</td>\n",
       "      <td>2004</td>\n",
       "      <td>PATNA</td>\n",
       "      <td>542</td>\n",
       "    </tr>\n",
       "    <tr>\n",
       "      <th>2</th>\n",
       "      <td>UTTAR PRADESH</td>\n",
       "      <td>2001</td>\n",
       "      <td>MUZAFFARNAGAR</td>\n",
       "      <td>324</td>\n",
       "    </tr>\n",
       "    <tr>\n",
       "      <th>3</th>\n",
       "      <td>MAHARASHTRA</td>\n",
       "      <td>2001</td>\n",
       "      <td>MUMBAI</td>\n",
       "      <td>295</td>\n",
       "    </tr>\n",
       "    <tr>\n",
       "      <th>4</th>\n",
       "      <td>JHARKHAND</td>\n",
       "      <td>2002</td>\n",
       "      <td>RANCHI</td>\n",
       "      <td>270</td>\n",
       "    </tr>\n",
       "    <tr>\n",
       "      <th>5</th>\n",
       "      <td>WEST BENGAL</td>\n",
       "      <td>2010</td>\n",
       "      <td>PASCHIM MIDNAPUR</td>\n",
       "      <td>268</td>\n",
       "    </tr>\n",
       "    <tr>\n",
       "      <th>6</th>\n",
       "      <td>KARNATAKA</td>\n",
       "      <td>2010</td>\n",
       "      <td>BANGALORE COMMR.</td>\n",
       "      <td>266</td>\n",
       "    </tr>\n",
       "    <tr>\n",
       "      <th>7</th>\n",
       "      <td>GUJARAT</td>\n",
       "      <td>2002</td>\n",
       "      <td>AHMEDABAD COMMR.</td>\n",
       "      <td>222</td>\n",
       "    </tr>\n",
       "    <tr>\n",
       "      <th>8</th>\n",
       "      <td>ANDHRA PRADESH</td>\n",
       "      <td>2001</td>\n",
       "      <td>RANGA REDDY</td>\n",
       "      <td>214</td>\n",
       "    </tr>\n",
       "    <tr>\n",
       "      <th>9</th>\n",
       "      <td>TAMIL NADU</td>\n",
       "      <td>2012</td>\n",
       "      <td>CHENNAI</td>\n",
       "      <td>180</td>\n",
       "    </tr>\n",
       "    <tr>\n",
       "      <th>10</th>\n",
       "      <td>JAMMU &amp; KASHMIR</td>\n",
       "      <td>2001</td>\n",
       "      <td>BARAMULLA</td>\n",
       "      <td>144</td>\n",
       "    </tr>\n",
       "    <tr>\n",
       "      <th>11</th>\n",
       "      <td>ASSAM</td>\n",
       "      <td>2007</td>\n",
       "      <td>TINSUKIA</td>\n",
       "      <td>143</td>\n",
       "    </tr>\n",
       "    <tr>\n",
       "      <th>12</th>\n",
       "      <td>MADHYA PRADESH</td>\n",
       "      <td>2004</td>\n",
       "      <td>JHABUA</td>\n",
       "      <td>139</td>\n",
       "    </tr>\n",
       "    <tr>\n",
       "      <th>13</th>\n",
       "      <td>CHHATTISGARH</td>\n",
       "      <td>2006</td>\n",
       "      <td>BIZAPUR</td>\n",
       "      <td>139</td>\n",
       "    </tr>\n",
       "    <tr>\n",
       "      <th>14</th>\n",
       "      <td>TRIPURA</td>\n",
       "      <td>2003</td>\n",
       "      <td>WEST</td>\n",
       "      <td>136</td>\n",
       "    </tr>\n",
       "    <tr>\n",
       "      <th>15</th>\n",
       "      <td>DELHI UT</td>\n",
       "      <td>2002</td>\n",
       "      <td>NORTH WEST</td>\n",
       "      <td>135</td>\n",
       "    </tr>\n",
       "    <tr>\n",
       "      <th>16</th>\n",
       "      <td>ODISHA</td>\n",
       "      <td>2009</td>\n",
       "      <td>KEONJHAR</td>\n",
       "      <td>109</td>\n",
       "    </tr>\n",
       "    <tr>\n",
       "      <th>17</th>\n",
       "      <td>RAJASTHAN</td>\n",
       "      <td>2011</td>\n",
       "      <td>ALWAR</td>\n",
       "      <td>104</td>\n",
       "    </tr>\n",
       "    <tr>\n",
       "      <th>18</th>\n",
       "      <td>UTTARAKHAND</td>\n",
       "      <td>2001</td>\n",
       "      <td>HARIDWAR</td>\n",
       "      <td>94</td>\n",
       "    </tr>\n",
       "    <tr>\n",
       "      <th>19</th>\n",
       "      <td>HARYANA</td>\n",
       "      <td>2006</td>\n",
       "      <td>GURGAON</td>\n",
       "      <td>93</td>\n",
       "    </tr>\n",
       "    <tr>\n",
       "      <th>20</th>\n",
       "      <td>PUNJAB</td>\n",
       "      <td>2010</td>\n",
       "      <td>CP LUDHIANA</td>\n",
       "      <td>90</td>\n",
       "    </tr>\n",
       "    <tr>\n",
       "      <th>21</th>\n",
       "      <td>NAGALAND</td>\n",
       "      <td>2008</td>\n",
       "      <td>DIMAPUR</td>\n",
       "      <td>64</td>\n",
       "    </tr>\n",
       "    <tr>\n",
       "      <th>22</th>\n",
       "      <td>MANIPUR</td>\n",
       "      <td>2007</td>\n",
       "      <td>IMPHAL WEST</td>\n",
       "      <td>61</td>\n",
       "    </tr>\n",
       "    <tr>\n",
       "      <th>23</th>\n",
       "      <td>KERALA</td>\n",
       "      <td>2002</td>\n",
       "      <td>TRIVANDRUM</td>\n",
       "      <td>58</td>\n",
       "    </tr>\n",
       "    <tr>\n",
       "      <th>24</th>\n",
       "      <td>MEGHALAYA</td>\n",
       "      <td>2003</td>\n",
       "      <td>JAINTIA HILLS</td>\n",
       "      <td>52</td>\n",
       "    </tr>\n",
       "    <tr>\n",
       "      <th>25</th>\n",
       "      <td>HIMACHAL PRADESH</td>\n",
       "      <td>2003</td>\n",
       "      <td>KANGRA</td>\n",
       "      <td>38</td>\n",
       "    </tr>\n",
       "    <tr>\n",
       "      <th>26</th>\n",
       "      <td>GOA</td>\n",
       "      <td>2009</td>\n",
       "      <td>NORTH GOA</td>\n",
       "      <td>33</td>\n",
       "    </tr>\n",
       "    <tr>\n",
       "      <th>27</th>\n",
       "      <td>PUDUCHERRY</td>\n",
       "      <td>2011</td>\n",
       "      <td>PUDUCHERRY</td>\n",
       "      <td>32</td>\n",
       "    </tr>\n",
       "    <tr>\n",
       "      <th>28</th>\n",
       "      <td>CHANDIGARH</td>\n",
       "      <td>2002</td>\n",
       "      <td>CHANDIGARH</td>\n",
       "      <td>31</td>\n",
       "    </tr>\n",
       "    <tr>\n",
       "      <th>29</th>\n",
       "      <td>MIZORAM</td>\n",
       "      <td>2010</td>\n",
       "      <td>AIZAWL</td>\n",
       "      <td>23</td>\n",
       "    </tr>\n",
       "    <tr>\n",
       "      <th>30</th>\n",
       "      <td>ARUNACHAL PRADESH</td>\n",
       "      <td>2007</td>\n",
       "      <td>LOHIT</td>\n",
       "      <td>17</td>\n",
       "    </tr>\n",
       "    <tr>\n",
       "      <th>31</th>\n",
       "      <td>A &amp; N ISLANDS</td>\n",
       "      <td>2003</td>\n",
       "      <td>ANDAMAN</td>\n",
       "      <td>16</td>\n",
       "    </tr>\n",
       "    <tr>\n",
       "      <th>32</th>\n",
       "      <td>D &amp; N HAVELI</td>\n",
       "      <td>2011</td>\n",
       "      <td>D and N HAVELI</td>\n",
       "      <td>14</td>\n",
       "    </tr>\n",
       "    <tr>\n",
       "      <th>33</th>\n",
       "      <td>SIKKIM</td>\n",
       "      <td>2001</td>\n",
       "      <td>EAST</td>\n",
       "      <td>13</td>\n",
       "    </tr>\n",
       "    <tr>\n",
       "      <th>34</th>\n",
       "      <td>DAMAN &amp; DIU</td>\n",
       "      <td>2007</td>\n",
       "      <td>DAMAN</td>\n",
       "      <td>12</td>\n",
       "    </tr>\n",
       "    <tr>\n",
       "      <th>35</th>\n",
       "      <td>LAKSHADWEEP</td>\n",
       "      <td>2001</td>\n",
       "      <td>LAKSHADWEEP</td>\n",
       "      <td>1</td>\n",
       "    </tr>\n",
       "  </tbody>\n",
       "</table>\n",
       "</div>"
      ],
      "text/plain": [
       "                   UT  YEAR          DISTRICT  Murder\n",
       "0            STATE/UT  YEAR          DISTRICT  MURDER\n",
       "1               BIHAR  2004             PATNA     542\n",
       "2       UTTAR PRADESH  2001     MUZAFFARNAGAR     324\n",
       "3         MAHARASHTRA  2001            MUMBAI     295\n",
       "4           JHARKHAND  2002            RANCHI     270\n",
       "5         WEST BENGAL  2010  PASCHIM MIDNAPUR     268\n",
       "6           KARNATAKA  2010  BANGALORE COMMR.     266\n",
       "7             GUJARAT  2002  AHMEDABAD COMMR.     222\n",
       "8      ANDHRA PRADESH  2001       RANGA REDDY     214\n",
       "9          TAMIL NADU  2012           CHENNAI     180\n",
       "10    JAMMU & KASHMIR  2001         BARAMULLA     144\n",
       "11              ASSAM  2007          TINSUKIA     143\n",
       "12     MADHYA PRADESH  2004            JHABUA     139\n",
       "13       CHHATTISGARH  2006           BIZAPUR     139\n",
       "14            TRIPURA  2003              WEST     136\n",
       "15           DELHI UT  2002        NORTH WEST     135\n",
       "16             ODISHA  2009          KEONJHAR     109\n",
       "17          RAJASTHAN  2011             ALWAR     104\n",
       "18        UTTARAKHAND  2001          HARIDWAR      94\n",
       "19            HARYANA  2006           GURGAON      93\n",
       "20             PUNJAB  2010       CP LUDHIANA      90\n",
       "21           NAGALAND  2008           DIMAPUR      64\n",
       "22            MANIPUR  2007       IMPHAL WEST      61\n",
       "23             KERALA  2002        TRIVANDRUM      58\n",
       "24          MEGHALAYA  2003     JAINTIA HILLS      52\n",
       "25   HIMACHAL PRADESH  2003            KANGRA      38\n",
       "26                GOA  2009         NORTH GOA      33\n",
       "27         PUDUCHERRY  2011        PUDUCHERRY      32\n",
       "28         CHANDIGARH  2002        CHANDIGARH      31\n",
       "29            MIZORAM  2010            AIZAWL      23\n",
       "30  ARUNACHAL PRADESH  2007             LOHIT      17\n",
       "31      A & N ISLANDS  2003           ANDAMAN      16\n",
       "32       D & N HAVELI  2011    D and N HAVELI      14\n",
       "33             SIKKIM  2001              EAST      13\n",
       "34        DAMAN & DIU  2007             DAMAN      12\n",
       "35        LAKSHADWEEP  2001       LAKSHADWEEP       1"
      ]
     },
     "execution_count": 65,
     "metadata": {},
     "output_type": "execute_result"
    }
   ],
   "source": [
    "#transforming to a dataframe\n",
    "dfsql"
   ]
  },
  {
   "cell_type": "markdown",
   "id": "2c2ea265",
   "metadata": {},
   "source": [
    "# 3.8.3 The data (3.2 result) to be stored in a DataFrame. Districts that appear three or more years in the past to be analyzed, and the associated state/UT, district, murders, and year to be printed in decreasing order."
   ]
  },
  {
   "cell_type": "code",
   "execution_count": 66,
   "id": "96fe301c",
   "metadata": {},
   "outputs": [
    {
     "name": "stdout",
     "output_type": "stream",
     "text": [
      "('WEST BENGAL', 'MURSHIDABAD', 2011, 433, 492)\n",
      "('WEST BENGAL', 'MURSHIDABAD', 2012, 257, 464)\n",
      "('WEST BENGAL', 'MURSHIDABAD', 2010, 526, 441)\n",
      "('DELHI', 'NORTH-WEST', 2005, 236, 349)\n",
      "('WEST BENGAL', 'MURSHIDABAD', 2009, 568, 342)\n",
      "('UTTAR PRADESH', 'LUCKNOW', 2008, 334, 331)\n",
      "('DELHI', 'NORTH WEST', 2001, 145, 298)\n",
      "('DELHI', 'NORTH-WEST', 2006, 224, 287)\n",
      "('DELHI', 'NORTH WEST', 2002, 159, 259)\n",
      "('DELHI', 'OUTER', 2007, 369, 237)\n",
      "('ASSAM', 'GUWAHATI CITY', 2004, 197, 228)\n",
      "('DELHI', 'NORTH WEST', 2003, 137, 191)\n"
     ]
    }
   ],
   "source": [
    "#.3.2 Creating an SQL query to determine which state, district, and year had the greatest number of rapes and kidnappings.\n",
    "data=cursor.execute(\"SELECT  state UT, DISTRICT ,Year ,MAX(Rape), MAX(Kidnapping) FROM crime_against_women_new1 WHERE NOT DISTRICT='TOTAL' AND NOT DISTRICT='DELHI UT TOTAL' GROUP BY Year ORDER BY Kidnapping DESC\")\n",
    "for row in data:\n",
    "    print(row)"
   ]
  },
  {
   "cell_type": "markdown",
   "id": "984cdcb5",
   "metadata": {},
   "source": [
    "# Transforming to DataFrame"
   ]
  },
  {
   "cell_type": "code",
   "execution_count": 67,
   "id": "bf385d4b",
   "metadata": {},
   "outputs": [],
   "source": [
    "dataframe=pd.read_sql(\"SELECT  state UT, DISTRICT ,Year ,MAX(Rape) AS Rape, MAX(Kidnapping) AS Kidnapping FROM crime_against_women_new1 WHERE NOT DISTRICT='TOTAL' AND NOT DISTRICT='DELHI UT TOTAL' GROUP BY Year ORDER BY Kidnapping DESC\",db)"
   ]
  },
  {
   "cell_type": "code",
   "execution_count": 68,
   "id": "87ec08d0",
   "metadata": {},
   "outputs": [
    {
     "data": {
      "text/html": [
       "<div>\n",
       "<style scoped>\n",
       "    .dataframe tbody tr th:only-of-type {\n",
       "        vertical-align: middle;\n",
       "    }\n",
       "\n",
       "    .dataframe tbody tr th {\n",
       "        vertical-align: top;\n",
       "    }\n",
       "\n",
       "    .dataframe thead th {\n",
       "        text-align: right;\n",
       "    }\n",
       "</style>\n",
       "<table border=\"1\" class=\"dataframe\">\n",
       "  <thead>\n",
       "    <tr style=\"text-align: right;\">\n",
       "      <th></th>\n",
       "      <th>UT</th>\n",
       "      <th>DISTRICT</th>\n",
       "      <th>Year</th>\n",
       "      <th>Rape</th>\n",
       "      <th>Kidnapping</th>\n",
       "    </tr>\n",
       "  </thead>\n",
       "  <tbody>\n",
       "    <tr>\n",
       "      <th>0</th>\n",
       "      <td>WEST BENGAL</td>\n",
       "      <td>MURSHIDABAD</td>\n",
       "      <td>2011</td>\n",
       "      <td>433</td>\n",
       "      <td>492</td>\n",
       "    </tr>\n",
       "    <tr>\n",
       "      <th>1</th>\n",
       "      <td>WEST BENGAL</td>\n",
       "      <td>MURSHIDABAD</td>\n",
       "      <td>2012</td>\n",
       "      <td>257</td>\n",
       "      <td>464</td>\n",
       "    </tr>\n",
       "    <tr>\n",
       "      <th>2</th>\n",
       "      <td>WEST BENGAL</td>\n",
       "      <td>MURSHIDABAD</td>\n",
       "      <td>2010</td>\n",
       "      <td>526</td>\n",
       "      <td>441</td>\n",
       "    </tr>\n",
       "    <tr>\n",
       "      <th>3</th>\n",
       "      <td>DELHI</td>\n",
       "      <td>NORTH-WEST</td>\n",
       "      <td>2005</td>\n",
       "      <td>236</td>\n",
       "      <td>349</td>\n",
       "    </tr>\n",
       "    <tr>\n",
       "      <th>4</th>\n",
       "      <td>WEST BENGAL</td>\n",
       "      <td>MURSHIDABAD</td>\n",
       "      <td>2009</td>\n",
       "      <td>568</td>\n",
       "      <td>342</td>\n",
       "    </tr>\n",
       "    <tr>\n",
       "      <th>5</th>\n",
       "      <td>UTTAR PRADESH</td>\n",
       "      <td>LUCKNOW</td>\n",
       "      <td>2008</td>\n",
       "      <td>334</td>\n",
       "      <td>331</td>\n",
       "    </tr>\n",
       "    <tr>\n",
       "      <th>6</th>\n",
       "      <td>DELHI</td>\n",
       "      <td>NORTH WEST</td>\n",
       "      <td>2001</td>\n",
       "      <td>145</td>\n",
       "      <td>298</td>\n",
       "    </tr>\n",
       "    <tr>\n",
       "      <th>7</th>\n",
       "      <td>DELHI</td>\n",
       "      <td>NORTH-WEST</td>\n",
       "      <td>2006</td>\n",
       "      <td>224</td>\n",
       "      <td>287</td>\n",
       "    </tr>\n",
       "    <tr>\n",
       "      <th>8</th>\n",
       "      <td>DELHI</td>\n",
       "      <td>NORTH WEST</td>\n",
       "      <td>2002</td>\n",
       "      <td>159</td>\n",
       "      <td>259</td>\n",
       "    </tr>\n",
       "    <tr>\n",
       "      <th>9</th>\n",
       "      <td>DELHI</td>\n",
       "      <td>OUTER</td>\n",
       "      <td>2007</td>\n",
       "      <td>369</td>\n",
       "      <td>237</td>\n",
       "    </tr>\n",
       "    <tr>\n",
       "      <th>10</th>\n",
       "      <td>ASSAM</td>\n",
       "      <td>GUWAHATI CITY</td>\n",
       "      <td>2004</td>\n",
       "      <td>197</td>\n",
       "      <td>228</td>\n",
       "    </tr>\n",
       "    <tr>\n",
       "      <th>11</th>\n",
       "      <td>DELHI</td>\n",
       "      <td>NORTH WEST</td>\n",
       "      <td>2003</td>\n",
       "      <td>137</td>\n",
       "      <td>191</td>\n",
       "    </tr>\n",
       "  </tbody>\n",
       "</table>\n",
       "</div>"
      ],
      "text/plain": [
       "               UT       DISTRICT  Year  Rape  Kidnapping\n",
       "0     WEST BENGAL    MURSHIDABAD  2011   433         492\n",
       "1     WEST BENGAL    MURSHIDABAD  2012   257         464\n",
       "2     WEST BENGAL    MURSHIDABAD  2010   526         441\n",
       "3           DELHI     NORTH-WEST  2005   236         349\n",
       "4     WEST BENGAL    MURSHIDABAD  2009   568         342\n",
       "5   UTTAR PRADESH        LUCKNOW  2008   334         331\n",
       "6           DELHI     NORTH WEST  2001   145         298\n",
       "7           DELHI     NORTH-WEST  2006   224         287\n",
       "8           DELHI     NORTH WEST  2002   159         259\n",
       "9           DELHI          OUTER  2007   369         237\n",
       "10          ASSAM  GUWAHATI CITY  2004   197         228\n",
       "11          DELHI     NORTH WEST  2003   137         191"
      ]
     },
     "execution_count": 68,
     "metadata": {},
     "output_type": "execute_result"
    }
   ],
   "source": [
    "dataframe"
   ]
  },
  {
   "cell_type": "code",
   "execution_count": 69,
   "id": "e2179e7e",
   "metadata": {},
   "outputs": [
    {
     "data": {
      "text/plain": [
       "DISTRICT\n",
       "MURSHIDABAD      4\n",
       "NORTH WEST       3\n",
       "NORTH-WEST       2\n",
       "LUCKNOW          1\n",
       "OUTER            1\n",
       "GUWAHATI CITY    1\n",
       "Name: count, dtype: int64"
      ]
     },
     "execution_count": 69,
     "metadata": {},
     "output_type": "execute_result"
    }
   ],
   "source": [
    "dataframe['DISTRICT'].value_counts()"
   ]
  },
  {
   "cell_type": "markdown",
   "id": "2844fac6",
   "metadata": {},
   "source": [
    "It is evident from above that Murshidabad is the state that has been around for more than three years."
   ]
  },
  {
   "cell_type": "code",
   "execution_count": 70,
   "id": "50cb8c6e",
   "metadata": {},
   "outputs": [],
   "source": [
    "from sqlalchemy import create_engine"
   ]
  },
  {
   "cell_type": "markdown",
   "id": "dc787977",
   "metadata": {},
   "source": [
    "# Examining districts that have been there for three or more years, and printing the state/UT, district, number of homicides, and year in descending order."
   ]
  },
  {
   "cell_type": "code",
   "execution_count": 71,
   "id": "3eb06d72",
   "metadata": {},
   "outputs": [],
   "source": [
    "engine = create_engine(\"sqlite+pysqlite:///:memory:\")"
   ]
  },
  {
   "cell_type": "code",
   "execution_count": 72,
   "id": "51787cd6",
   "metadata": {},
   "outputs": [
    {
     "data": {
      "text/plain": [
       "12"
      ]
     },
     "execution_count": 72,
     "metadata": {},
     "output_type": "execute_result"
    }
   ],
   "source": [
    "dataframe.to_sql('district_data', engine)"
   ]
  },
  {
   "cell_type": "code",
   "execution_count": 73,
   "id": "ef2e8add",
   "metadata": {},
   "outputs": [],
   "source": [
    "from sqlalchemy import text"
   ]
  },
  {
   "cell_type": "code",
   "execution_count": 74,
   "id": "0188e5fd",
   "metadata": {},
   "outputs": [
    {
     "name": "stdout",
     "output_type": "stream",
     "text": [
      "('WEST BENGAL', 'MURSHIDABAD', 2011)\n",
      "('WEST BENGAL', 'MURSHIDABAD', 2012)\n",
      "('WEST BENGAL', 'MURSHIDABAD', 2010)\n"
     ]
    }
   ],
   "source": [
    "with engine.connect() as conn:\n",
    "    result = conn.execute(text(\"select UT, DISTRICT ,Year FROM district_data ORDER BY UT DESC LIMIT 3\"))\n",
    "    for row in result:\n",
    "        print(row)"
   ]
  },
  {
   "cell_type": "markdown",
   "id": "c3846def",
   "metadata": {},
   "source": [
    "According to the West Bengal results above, Murshidabad is the district that showed up more than three times in a given year."
   ]
  },
  {
   "cell_type": "markdown",
   "id": "25c7c77a",
   "metadata": {},
   "source": [
    "# 3.8.4  Making use of the proper graphs to display our data (the 3.8.3)"
   ]
  },
  {
   "cell_type": "code",
   "execution_count": 75,
   "id": "eb69f727",
   "metadata": {},
   "outputs": [],
   "source": [
    "import matplotlib.pyplot as plt\n",
    "import seaborn as sns"
   ]
  },
  {
   "cell_type": "code",
   "execution_count": 80,
   "id": "0a59f6a5",
   "metadata": {},
   "outputs": [
    {
     "data": {
      "image/png": "[encoded data removed]",
      "text/plain": [
       "<Figure size 640x480 with 1 Axes>"
      ]
     },
     "metadata": {},
     "output_type": "display_data"
    }
   ],
   "source": [
    "dataframe['Rape'] = pd.to_numeric(dataframe['Rape'], errors='coerce')\n",
    "sns.barplot(x=dataframe['DISTRICT'], y=dataframe['Rape'])\n",
    "plt.xticks(rotation= 45)  # Corrected rotation value\n",
    "plt.show()\n"
   ]
  },
  {
   "cell_type": "markdown",
   "id": "fc0ec42d",
   "metadata": {},
   "source": [
    "# According to the resultant Dataframe, the district of Murshidabad in West Bengal has the largest number of kidnapping cases, while the district of Guwahati City in Assam has the lowest number of cases."
   ]
  },
  {
   "cell_type": "code",
   "execution_count": null,
   "id": "fb2902e4",
   "metadata": {},
   "outputs": [],
   "source": []
  }
 ],
 "metadata": {
  "kernelspec": {
   "display_name": "Python 3 (ipykernel)",
   "language": "python",
   "name": "python3"
  },
  "language_info": {
   "codemirror_mode": {
    "name": "ipython",
    "version": 3
   },
   "file_extension": ".py",
   "mimetype": "text/x-python",
   "name": "python",
   "nbconvert_exporter": "python",
   "pygments_lexer": "ipython3",
   "version": "3.11.5"
  }
 },
 "nbformat": 4,
 "nbformat_minor": 5
}
